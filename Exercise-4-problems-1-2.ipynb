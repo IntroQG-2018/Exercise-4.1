{
 "cells": [
  {
   "cell_type": "markdown",
   "metadata": {
    "deletable": false,
    "editable": false,
    "nbgrader": {
     "checksum": "40fcdd89df8aa444af80ed18b5f11020",
     "grade": false,
     "grade_id": "cell-10c47ad51304763f",
     "locked": true,
     "schema_version": 1,
     "solution": false
    }
   },
   "source": [
    "# Exercise 4: River advection\n",
    "\n",
    "For the exercise this week we will be applying the advection equation to bedrock river erosion.\n",
    "The goal is to see how river profiles evolve in nature using a spatially variable advection coefficient (stream-power erosion).\n",
    "\n",
    "For each problem you need to modify the given notebook, and then upload your files to GitHub.\n",
    "The answers to the questions in this week's exercise should be given by modifying the document in places where you are asked.\n",
    "\n",
    "- **Exercise 4 is due by the start of class on on 26.11.**\n",
    "- Don't forget to check out [the hints for this week's exercise](https://introqg.github.io/qg/lessons/L4/exercise-4.html) if you're having trouble.\n",
    "- Scores on this exercise are out of 20 points.\n",
    "\n",
    "This tutorial is based on a MATLAB exercise from [Prof. Todd Ehlers (University of Tübingen, Germany)](http://www.geo.uni-tuebingen.de/?id=2183) and [Prof. Brian Yanites (University of Indiana, USA)](http://www.geology.indiana.edu/yanites/index.html)."
   ]
  },
  {
   "cell_type": "markdown",
   "metadata": {
    "deletable": false,
    "editable": false,
    "nbgrader": {
     "checksum": "ce04f1e452938dc2df7e4d6f60ea38c9",
     "grade": false,
     "grade_id": "cell-2c5cef7d6fa0786b",
     "locked": true,
     "schema_version": 1,
     "solution": false
    }
   },
   "source": [
    "# Problem 1 - Introduction to river profile evolution (4 points)\n",
    "\n",
    "For this exercise we will be using some Python code to plot river profiles.\n",
    "The code performs many of the basic calculations needed to answer the questions below, but you will need add a few functions and make some changes to complete the exercise."
   ]
  },
  {
   "cell_type": "markdown",
   "metadata": {
    "deletable": false,
    "editable": false,
    "nbgrader": {
     "checksum": "597bd1cca6a1cc7c6f1a39b670988264",
     "grade": false,
     "grade_id": "cell-6c981ee40c5ad602",
     "locked": true,
     "schema_version": 1,
     "solution": false
    }
   },
   "source": [
    "## Part 1: Getting started, finding the drainage area (1 point)\n",
    "\n",
    "We will be working with river profiles in this exercise, which show the elevation of a river channel along its length.\n",
    "However, the stream-power erosion law relies on estimating the amount of water in the river (i.e., its discharge) using the area upstream of any given point.\n",
    "Thus, your first task in this problem is to create a function that can be used to approximate the change in upstream area in a river basin as you move down stream.\n",
    "\n",
    "We can approximate the area $A$ upstream of any point using\n",
    "\n",
    "\\begin{equation}\n",
    "  \\Large\n",
    "  A = k_{a} x^{h_{a}}\n",
    "\\end{equation}\n",
    "\n",
    "where $k_{a}$ is a distance/area scaling coefficient with units of m$^{1/3}$ and $h_{a}$ is a scaling exponent.\n",
    "Typical values of $k_{a}$ and $h_{a}$ are 6.69 and 1.69, respectively.\n",
    "\n",
    "For this part you should:\n",
    "\n",
    "- Run the two Python cells below to get the plotting set.\n",
    "- Create a function `drainage_area` that can be used to estimate the upstream drainage area for a river profile of length $x$.\n",
    "    - Your function should calculate the area (which you could call `area`) using the equation above.\n",
    "    - The first value of `area` should not be 0.0, but rather you can manually set it to be half of the second value in `area`.\n",
    "    - Your function should return the area array (called `area` if you follow the example name above)."
   ]
  },
  {
   "cell_type": "code",
   "execution_count": null,
   "metadata": {
    "deletable": false,
    "editable": false,
    "nbgrader": {
     "checksum": "7ac521295134578f513e0441f2de25ee",
     "grade": false,
     "grade_id": "cell-9d4582bb0d35ccec",
     "locked": true,
     "schema_version": 1,
     "solution": false
    }
   },
   "outputs": [],
   "source": [
    "# Enable interactive plotting/animations\n",
    "%matplotlib widget"
   ]
  },
  {
   "cell_type": "code",
   "execution_count": null,
   "metadata": {
    "deletable": false,
    "editable": false,
    "nbgrader": {
     "checksum": "ba274ba9a9f290b524dbe3485a9384c6",
     "grade": false,
     "grade_id": "cell-e9f94290f07c726e",
     "locked": true,
     "schema_version": 1,
     "solution": false
    }
   },
   "outputs": [],
   "source": [
    "# Import NumPy, Matplotlib and the Matplotlib animation modules\n",
    "import numpy as np\n",
    "import matplotlib.pyplot as plt\n",
    "from matplotlib import animation"
   ]
  },
  {
   "cell_type": "code",
   "execution_count": null,
   "metadata": {
    "deletable": false,
    "nbgrader": {
     "checksum": "940bb140300f18b58fd06c8fb3a82a13",
     "grade": false,
     "grade_id": "drainage_area",
     "locked": false,
     "schema_version": 1,
     "solution": true
    }
   },
   "outputs": [],
   "source": [
    "def drainage_area(x, ka=6.69, ha=1.69):\n",
    "    \"\"\"Calculate estimated drainage area upstream.\n",
    "    \n",
    "    Keyword arguments:\n",
    "    x -- an array of distances along the river profile\n",
    "    ka -- distance/area scaling coefficient (units: m**0.33; default: 6.69)\n",
    "    ha -- scaling exponent (default: 1.69)\n",
    "    \"\"\"\n",
    "# YOUR CODE HERE\n",
    "raise NotImplementedError()"
   ]
  },
  {
   "cell_type": "code",
   "execution_count": null,
   "metadata": {
    "deletable": false,
    "editable": false,
    "nbgrader": {
     "checksum": "48ae667504dbcdd0fbb2b69b293279af",
     "grade": true,
     "grade_id": "drainage_area_test1",
     "locked": true,
     "points": 1,
     "schema_version": 1,
     "solution": false
    }
   },
   "outputs": [],
   "source": [
    "# This test should work\n",
    "x_test = np.linspace(0.0, 3.0, 7)\n",
    "print ('Drainage area at index 3 should be 13.2746. My drainage area is {0:.4f}.'.format(drainage_area(x_test)[3]))\n"
   ]
  },
  {
   "cell_type": "markdown",
   "metadata": {
    "deletable": false,
    "editable": false,
    "nbgrader": {
     "checksum": "a9a38fbefe62c8381c61ceff1636c1ed",
     "grade": false,
     "grade_id": "cell-97fc7dfe88e87d3f",
     "locked": true,
     "schema_version": 1,
     "solution": false
    }
   },
   "source": [
    "## Part 2: Defining a stream-power erosion function (1 point)\n",
    "\n",
    "The next task in this problem is to define a function that can be used to calculate the stream-power erosion rate along the length of the river profile.\n",
    "As a reminder, the stream-power erosion law has the form\n",
    "\n",
    "\\begin{equation}\n",
    "  \\Large\n",
    "  \\frac{dh}{dt} = K A^{m} S^{n}\n",
    "\\end{equation}\n",
    "\n",
    "where $h$ is the elevation of the river channel, $t$ is time, $K$ is an erosional efficiency factor (accounts for lithology, climate, channel geometry, sediment supply, etc. (!)), $A$ is upstream drainage area, $S$ is channel slope, and $m$ and $n$ are the area and slope exponents.\n",
    "\n",
    "For this part you should:\n",
    "\n",
    "- Create a function `calculate_dhdt` that calculates the rate of erosion along the length of the river profile using the stream-power erosion law.\n",
    "    - **Note**: The value you calculate for $dh/dt$ should be negative as we'll apply it to lower the surface elevations.\n",
    "- To calculate the stream-power erosion rate, you will first need to calculate the channel slope along the river profile. Take a shot at this, and have a look at [the hints for this week's exercise](https://introqg.github.io/qg/lessons/L4/exercise-4.html) if you are having trouble.\n",
    "- Once you have the slope, you can calculate the erosion rate $dh/dt$ using the equation above and return that value from your function"
   ]
  },
  {
   "cell_type": "code",
   "execution_count": null,
   "metadata": {
    "deletable": false,
    "nbgrader": {
     "checksum": "116840efdf095066569363ecd75f8fa9",
     "grade": false,
     "grade_id": "dhdt",
     "locked": false,
     "schema_version": 1,
     "solution": true
    }
   },
   "outputs": [],
   "source": [
    "def calculate_dhdt(topography, dx, area, K=1.6E-8, m=1.0, n=2.0):\n",
    "    \"\"\"Calculate estimated drainage area upstream.\n",
    "    \n",
    "    Keyword arguments:\n",
    "    topography -- array of elevations along the river profile\n",
    "    dx -- spacing between points along the river profile\n",
    "    area -- upstream drainage area\n",
    "    K -- fluvial erosional efficiency factor (units: m**0.33 / a; default: 1.6E-8)\n",
    "    m -- stream power area exponent (default: 1.0)\n",
    "    n -- stream power slope exponent (default: 2.0)\n",
    "    \"\"\"\n",
    "# YOUR CODE HERE\n",
    "raise NotImplementedError()"
   ]
  },
  {
   "cell_type": "code",
   "execution_count": null,
   "metadata": {
    "deletable": false,
    "editable": false,
    "nbgrader": {
     "checksum": "6c9d42ccd391284ec08e99c0e6ca5448",
     "grade": true,
     "grade_id": "dhdt_test1",
     "locked": true,
     "points": 1,
     "schema_version": 1,
     "solution": false
    }
   },
   "outputs": [],
   "source": [
    "# This test should work\n",
    "x_test = np.linspace(0.0, 3.0, 7)\n",
    "topography = np.sin(x_test)\n",
    "area = drainage_area(x_test)\n",
    "print ('dhdt at index 3 should be -0.8261. My drainage area is {0:.4f}.'.format(calculate_dhdt(topography, 0.5, area, 2.0, 1.0, 2.0)[3]))"
   ]
  },
  {
   "cell_type": "markdown",
   "metadata": {
    "deletable": false,
    "editable": false,
    "nbgrader": {
     "checksum": "783a0ff6627f5dbf222016247a98bb3a",
     "grade": false,
     "grade_id": "cell-f42ca1b69760933a",
     "locked": true,
     "schema_version": 1,
     "solution": false
    }
   },
   "source": [
    "## Part 3: Putting the pieces together and testing (0 points)\n",
    "\n",
    "At this point we have one of the main components for calculating the evolution of a river profile subject to stream-power erosion, the stream-power erosion function `calculate_dhdt`.\n",
    "While you could go through the process of creating a number of other functions and code to handle the rest of this problem, we'll instead provide that code below.\n",
    "Unfortunately, this is a slightly more involved programming exercise, so we'll go through a few other functions so that you get a sense of how the code works before you start using it.\n",
    "\n",
    "**We strongly advise you to take the time to look through this code, rather than just running the Python cells below**.\n",
    "You'll be asked to modify some of this code for the other parts of this problem below."
   ]
  },
  {
   "cell_type": "markdown",
   "metadata": {
    "deletable": false,
    "editable": false,
    "nbgrader": {
     "checksum": "34952eee12859152c65d9e05826121c5",
     "grade": false,
     "grade_id": "cell-97baa2ea1530dfe8",
     "locked": true,
     "schema_version": 1,
     "solution": false
    }
   },
   "source": [
    "### Defining the initial topography\n",
    "\n",
    "The function below (`init_topography`) is used to define the initial shape of the river profile.\n",
    "Review the function and see whether you can understand how the 3 different topography shapes are defined, and how they differ.\n",
    "\n",
    "For this sub-part you should:\n",
    "\n",
    "- Review the code in the `init_topography` function below to try to understand how it works\n",
    "- Run the Python cell below"
   ]
  },
  {
   "cell_type": "code",
   "execution_count": null,
   "metadata": {
    "deletable": false,
    "editable": false,
    "nbgrader": {
     "checksum": "3f47a293f5ea0627ec627620480ba14f",
     "grade": false,
     "grade_id": "cell-8b84baff4647d92c",
     "locked": true,
     "schema_version": 1,
     "solution": false
    }
   },
   "outputs": [],
   "source": [
    "def init_topography(topo_option, x, min_elevation=0.0, max_elevation=1500.0):\n",
    "    \"\"\"Define the initial river profile.\n",
    "    \n",
    "    Keyword arguments:\n",
    "    topo_option -- the option for the initial river profile geometry (1-3)\n",
    "    x -- array of distance along the river profile (units: m)\n",
    "    min_elevation -- minimum profile elevation (units: m; default: 0.0)\n",
    "    max_elevation -- maximum profile elevation (units: m; default: 0.0)\n",
    "    \"\"\"\n",
    "    if topo_option == 1:               # \"Flat\" topography at 1 m elevation\n",
    "        topography = np.ones(x.size)\n",
    "        topography[-1] = 0.0\n",
    "    elif topo_option == 2:             # \"Plateau\" topography\n",
    "        topography = np.zeros(x.size) + max_elevation\n",
    "        topography[-1] = min_elevation\n",
    "    elif topo_option == 3:             # Sloping topography\n",
    "        topography = np.linspace(max_elevation, min_elevation, x.size)\n",
    "    else:                              # Stop with error message if given a bad value\n",
    "        print(\"Bad value listed for topo_option. It must be '1', '2', or '3'. Exiting...\")\n",
    "        exit()\n",
    "    return topography"
   ]
  },
  {
   "cell_type": "markdown",
   "metadata": {
    "deletable": false,
    "editable": false,
    "nbgrader": {
     "checksum": "25f0a29d58aa07514203be9217216b29",
     "grade": false,
     "grade_id": "cell-3894d647e13a4f7e",
     "locked": true,
     "schema_version": 1,
     "solution": false
    }
   },
   "source": [
    "### Updating the topography\n",
    "\n",
    "The function below (`update_topo`) is used to calculate the new shape of the river profile.\n",
    "The profile shape is the result of rock uplift and stream-power erosion.\n",
    "Review the function and see whether you can understand how the river profile shape is updated.\n",
    "\n",
    "For this sub-part you should:\n",
    "\n",
    "- Review the code in the `update_topo` function below to try to understand how it works\n",
    "- Run the Python cell below"
   ]
  },
  {
   "cell_type": "code",
   "execution_count": null,
   "metadata": {
    "deletable": false,
    "editable": false,
    "nbgrader": {
     "checksum": "4fc73bfa590c55474d3775e9a7cf8e0b",
     "grade": false,
     "grade_id": "cell-6b79ddb500f2d92f",
     "locked": true,
     "schema_version": 1,
     "solution": false
    }
   },
   "outputs": [],
   "source": [
    "def update_topo(topography, dx, area, K, m, n, uplift, dt, dt_plot):\n",
    "    \"\"\"Calculate an updated river profile.\n",
    "\n",
    "    Keyword arguments:\n",
    "    topography -- array of river profile elevations (units: m)\n",
    "    dx -- spacing of points along river profile (units: m)\n",
    "    area -- array of upstream drainage area (units: m**2.0)\n",
    "    K -- fluvial erosional efficiency factor (units: m**0.33 / a)\n",
    "    m -- stream power area exponent\n",
    "    n -- stream power slope exponent\n",
    "    uplift -- array of rock uplift rates (units: m / a)\n",
    "    dt -- time step size for profile calculations (units: a)\n",
    "    dt_plot -- time step for displaying plots (units: a)\n",
    "    \"\"\"\n",
    "    for step in range(int(dt_plot/dt)):                        # Loop over amount of time between plots\n",
    "        dhdt = calculate_dhdt(topography, dx, area, K, m, n)   # Calculate updated erosion rates\n",
    "        outlet_elev = topography[-1]                           # Store the elevation of the river outlet\n",
    "        topography += (dhdt + uplift) * dt                     # Update topography based on uplift and river erosion\n",
    "        topography[topography < 0.0] = 0.0                     # Set any topography values below zero to 0.0\n",
    "        topography[-1] = outlet_elev                           # Reset the river outlet elevation\n",
    "    return topography, dhdt"
   ]
  },
  {
   "cell_type": "markdown",
   "metadata": {
    "deletable": false,
    "editable": false,
    "nbgrader": {
     "checksum": "e6cf0b8ade62624d20690defc0c872be",
     "grade": false,
     "grade_id": "cell-40643cfbddd79f25",
     "locked": true,
     "schema_version": 1,
     "solution": false
    }
   },
   "source": [
    "### Updating the figure\n",
    "\n",
    "The function below (`update_figure`) is used to update the figure to show the current river profile.\n",
    "Review the function and see whether you can understand how the plotted values and plot text are updated.\n",
    "\n",
    "For this sub-part you should:\n",
    "\n",
    "- Review the code in the `update_figure` function below to try to understand how it works\n",
    "- Run the Python cell below"
   ]
  },
  {
   "cell_type": "code",
   "execution_count": null,
   "metadata": {
    "deletable": false,
    "editable": false,
    "nbgrader": {
     "checksum": "248c59f9ebc0c9e50c17fd56a2c557b1",
     "grade": false,
     "grade_id": "cell-f89f9e0c735549ff",
     "locked": true,
     "schema_version": 1,
     "solution": false
    }
   },
   "outputs": [],
   "source": [
    "def update_figure(time_now, ax1, plot1, time_text, elev_text, topography, dx, area, K, m, n, uplift, dt, dt_plot):\n",
    "    \"\"\"Update the river profile figure.\n",
    "\n",
    "    Keyword arguments:\n",
    "    time_now -- current time in river profile model (units: a)\n",
    "    ax1 -- plot axis 1 (river profile)\n",
    "    plot1 -- plot 1\n",
    "    time_text -- text object for current model time\n",
    "    elev_text -- text object for maximum elevation\n",
    "    topography -- array of river profile elevations (units: m)\n",
    "    dx -- spacing of points along river profile (units: m)\n",
    "    area -- array of upstream drainage area (units: m**2.0)\n",
    "    K -- fluvial erosional efficiency factor (units: m**0.33 / a)\n",
    "    m -- stream power area exponent\n",
    "    n -- stream power slope exponent\n",
    "    uplift -- array of rock uplift rates (units: m / a)\n",
    "    dt -- time step size for profile calculations (units: a)\n",
    "    dt_plot -- time step for displaying plots (units: a)\n",
    "    \"\"\"\n",
    "    # Update elevations on river profile\n",
    "    topography, dhdt = update_topo(topography, dx, area, K, m, n, uplift, dt, dt_plot)\n",
    "    max_elev = topography.max()                                     # Calculate maximum elevation of river profile\n",
    "    plot1.set_ydata(topography)                                     # Update plot topography\n",
    "    ax1.set_ylim([0.0, max_elev * 1.1])                             # Update y-axis range for new topography\n",
    "    time_text.set_y(max_elev * 0.9)                                 # Reposition time text\n",
    "    time_text.set_text(str(time_now)+\" years\")                      # Update time text\n",
    "    elev_text.set_y(max_elev * 0.8)                                 # Reposition time text\n",
    "    elev_text.set_text(\"Max elevation: {0:.1f} m\".format(max_elev)) # Update time text\n",
    "    # ADD STUFF TO UPDATE SECOND SUBPLOT HERE\n",
    "    #\n",
    "    #\n",
    "    return plot1,                                                   # Return updated plot"
   ]
  },
  {
   "cell_type": "markdown",
   "metadata": {
    "deletable": false,
    "editable": false,
    "nbgrader": {
     "checksum": "ba5576c9b7d3461cca05f1080c6d7fb1",
     "grade": false,
     "grade_id": "cell-e85f97ef3ca1b5c4",
     "locked": true,
     "schema_version": 1,
     "solution": false
    }
   },
   "source": [
    "### Putting it all together\n",
    "\n",
    "The function below (`stream_power`) combines the functions above to calculate a river profile and plot it in an animation.\n",
    "In addition to using the functions above, it also defines some of the arrays used in the calculations, creates the figure and initial plots, and uses the animation functionality in Matplotlib to generate an animated plot.\n",
    "This is slightly more complicated than the earlier function examples, but we think you should be able to read over the code and comments to get a sense of how all of the code pieces fit together.\n",
    "\n",
    "For this sub-part you should:\n",
    "\n",
    "- Review the code in the `stream_power` function below to try to understand how it works\n",
    "- Run the Python cell below"
   ]
  },
  {
   "cell_type": "code",
   "execution_count": null,
   "metadata": {
    "deletable": false,
    "editable": false,
    "nbgrader": {
     "checksum": "eb5dcd97e05a6ac1857f8b8349b57dc7",
     "grade": false,
     "grade_id": "cell-01471bf1847ed427",
     "locked": true,
     "schema_version": 1,
     "solution": false
    }
   },
   "outputs": [],
   "source": [
    "def stream_power(min_elevation = 0.0, max_elevation = 1500.0, profile_length = 100000.0,\n",
    "                 dx = 1000.0, topo_option = 1, simulation_time = 2000000.0, dt = 2.0,\n",
    "                 dt_plot = 2000.0, K = 1.6E-8, m = 1.0, n = 2.0, ka = 6.69, h = 1.69):\n",
    "    \"\"\"Calculate evolution of a river profile with stream-power erosion.\n",
    "\n",
    "    Keyword arguments:\n",
    "    min_elevation -- minimum elevation for initial topography (units: m; default: 0.0)\n",
    "    max_elevation -- maximum elevation for initial topography (units: m; default: 1500.0)\n",
    "    profile_length -- length of river profile (units: m; default: 100000.0)\n",
    "    dx -- spacing of points along river profile (units: m; default: 1000.0)\n",
    "    topo_option -- initial topography: 1 = flat, 2 = plateau, 3 = constant slope\n",
    "                   (default: 1)\n",
    "    simulation_time -- total simulation time (units: a; default: 2000000.0)\n",
    "    dt -- time step size for profile calculations (units: a; default: 2.0)\n",
    "    dt_plot -- time step for displaying plots (units: a; default: 2000.0)\n",
    "    K -- fluvial erosional efficiency factor (units: m**0.33 / a; default: 1.6E-8)\n",
    "    m -- stream power area exponent (default: 1.0)\n",
    "    n -- stream power slope exponent (default: 2.0)\n",
    "    h -- area scaling exponent (default: 1.69)\n",
    "    ka -- distance/area scaling coefficient (units: m**0.33; default: 6.69)\n",
    "    \"\"\"\n",
    "\n",
    "    # Define arrays needed for river profile calculations\n",
    "    x_points = int(profile_length/dx) + 1           # Number of points for x array\n",
    "    x = np.linspace(0.0, profile_length, x_points)  # Define x array from 0 to L by dx\n",
    "    xkm = x / 1000.0                                # Create xkm array with x values converted to km\n",
    "    dhdt = np.zeros(x.size)                         # Erosion rate array, same size as x\n",
    "\n",
    "    # Define rock uplift rate and pattern\n",
    "    uplift_rate = 0.001                             # Rock uplift rate [m/a]\n",
    "    uplift = np.zeros(x.size) + uplift_rate         # Create rock uplift array with constant uplift rate\n",
    "\n",
    "    # Define initial topography\n",
    "    topography = init_topography(topo_option, x, min_elevation, max_elevation)\n",
    "\n",
    "    # Calculate drainage basin area as a function of distance from divide x\n",
    "    area = drainage_area(x)\n",
    "\n",
    "    # Fill values for time and plot time arrays\n",
    "    time = np.linspace(0.0, simulation_time, int(simulation_time / dt + 1))\n",
    "    plot_time = np.linspace(0.0, simulation_time, int(simulation_time / dt_plot + 1))\n",
    "\n",
    "    # Create plotting window\n",
    "    fig = plt.figure()\n",
    "\n",
    "    # Format subplot 1\n",
    "    max_elev = topography.max()\n",
    "    ax1 = plt.subplot(1, 1, 1)              # Set ax1 as the first plot\n",
    "    ax1.set_xlim([0.0, xkm.max()])          # Set the x-axis limits for plot 1\n",
    "    ax1.set_ylim([0.0, max_elev*1.1])       # Set the y-axis limits for plot 1\n",
    "    plot1, = plt.plot(xkm, topography)      # Define plot1 as the first plot\n",
    "\n",
    "    # Add axis labels and title\n",
    "    plt.xlabel(\"Distance from drainage divide [km]\")\n",
    "    plt.ylabel(\"River channel elevation [m]\")\n",
    "    plt.title(\"River channel profile evolution model\")\n",
    "\n",
    "    # Define starting time for display on plot (value updated in animate() function)\n",
    "    time_now = 0.0\n",
    "    time_text = plt.text(60., max_elev*0.9, str(time_now)+\" years\")\n",
    "\n",
    "    # Define starting max elevation for display on plot (value updated in animate() function)\n",
    "    elev_text = plt.text(60., max_elev*0.8, \"Max elevation: {0:.1f} m\".format(max_elev))\n",
    "\n",
    "    # Format subplot 2\n",
    "    #\n",
    "    # FIGURE 2 STUFF GOES HERE\n",
    "    #\n",
    "\n",
    "    # Animate and display plot results\n",
    "    anim = animation.FuncAnimation(fig, update_figure, frames=plot_time,\n",
    "                                  fargs=(ax1, plot1, time_text, elev_text,\n",
    "                                         topography, dx, area, K, m, n,\n",
    "                                         uplift, dt, dt_plot),\n",
    "                                  interval=5,blit=False, repeat=False)\n",
    "\n",
    "    # Display plot\n",
    "    plt.show()\n",
    "    \n",
    "    # Return anim so the animation works\n",
    "    return anim"
   ]
  },
  {
   "cell_type": "markdown",
   "metadata": {
    "deletable": false,
    "editable": false,
    "nbgrader": {
     "checksum": "96431e577de220dcbce1fc8e2bd40fd7",
     "grade": false,
     "grade_id": "cell-1674b9b1e7165d16",
     "locked": true,
     "schema_version": 1,
     "solution": false
    }
   },
   "source": [
    "## Part 4: Questions for this problem (2 points)\n",
    "\n",
    "1. Were you able to understand how the different functions used in this problem work?\n",
    "Which ones were the most challenging to understand?\n",
    "Why?\n",
    "2. Does it make sense why functions are used in longer programs like this one?\n",
    "Do you find dividing the code into functions a useful thing to do?\n",
    "If so, why?\n",
    "If not, why not?"
   ]
  },
  {
   "cell_type": "markdown",
   "metadata": {
    "deletable": false,
    "nbgrader": {
     "checksum": "76036ce53062682938abe591dd4421d4",
     "grade": true,
     "grade_id": "problem_1_questions",
     "locked": false,
     "points": 2,
     "schema_version": 1,
     "solution": true
    }
   },
   "source": [
    "YOUR ANSWER HERE"
   ]
  },
  {
   "cell_type": "markdown",
   "metadata": {
    "deletable": false,
    "editable": false,
    "nbgrader": {
     "checksum": "1ded5afab7089233e3ba62b36b39693b",
     "grade": false,
     "grade_id": "cell-661711c1ad71a51f",
     "locked": true,
     "schema_version": 1,
     "solution": false
    }
   },
   "source": [
    "# Problem 2: River profile evolution (12 points)\n",
    "\n",
    "Now that you have a sense of how the code should work and all of the necessary functions, we can begin exploring stream-power erosion.\n",
    "The `stream_power` function simulates river incision into a 100-km-wide landscape with an initial flat surface elevation of 1 m.\n",
    "River incision is calculated using the stream-power erosion equations described in the [lecture slides for this week](https://introqg.github.io/2018/_static/slides/L4/Advection.pdf)."
   ]
  },
  {
   "cell_type": "markdown",
   "metadata": {
    "deletable": false,
    "editable": false,
    "nbgrader": {
     "checksum": "6397f2b5bcc0a8bd475d934d21a0fdeb",
     "grade": false,
     "grade_id": "cell-f7a6fead4284c271",
     "locked": true,
     "schema_version": 1,
     "solution": false
    }
   },
   "source": [
    "## Part 1: River erosion, animated (3.5 points)\n",
    "\n",
    "You first task in this problem is simply to run the `stream_power` function and have a look at its output.\n",
    "The program could take about 1 minute to run.\n",
    "\n",
    "For this part you should:\n",
    "\n",
    "- Run the `stream_power` function in the cell below\n",
    "- Watch the river profile evolve as the model runs\n",
    "- Add a descriptive figure caption as if it was in a scientific journal in the cell below the plot\n",
    "- Answer a few questions about the river profile model"
   ]
  },
  {
   "cell_type": "code",
   "execution_count": null,
   "metadata": {
    "deletable": false,
    "nbgrader": {
     "checksum": "3f15ef1cfd6a1bef08cea32035466643",
     "grade": true,
     "grade_id": "no_points",
     "locked": false,
     "points": 0,
     "schema_version": 1,
     "solution": true
    }
   },
   "outputs": [],
   "source": [
    "# YOUR CODE HERE\n",
    "raise NotImplementedError()"
   ]
  },
  {
   "cell_type": "markdown",
   "metadata": {
    "deletable": false,
    "nbgrader": {
     "checksum": "3da3af0701c4a8a5b575370f419d08b4",
     "grade": true,
     "grade_id": "cell-119df3662911f006",
     "locked": false,
     "points": 0.5,
     "schema_version": 1,
     "solution": true
    }
   },
   "source": [
    "YOUR ANSWER HERE"
   ]
  },
  {
   "cell_type": "markdown",
   "metadata": {
    "deletable": false,
    "editable": false,
    "nbgrader": {
     "checksum": "0a899b8dc1a4f07a36191d62bd364911",
     "grade": false,
     "grade_id": "cell-d716ba5508b49ac9",
     "locked": true,
     "schema_version": 1,
     "solution": false
    }
   },
   "source": [
    "#### Questions for this part (3 points):\n",
    "\n",
    "Look again through the Python code from Problem 1 and the plot it produces, and answer the following questions.\n",
    "\n",
    "1. How long is the time step in the calculation?\n",
    "2. What is the rock uplift rate in the model? Is it constant or does it vary with space in the model?\n",
    "3. What is the maximum elevation of the topography at the end of the simulation? Is this higher or lower than the original maximum elevation? Why?\n",
    "4. Does the maximum elevation continually increase with time, or does it also decrease? Does the river profile appear to reach a steady state?\n",
    "5. How fast (at what velocity) does the drainage divide (highest point in the topography) migrate across the model?\n",
    "To calculate this value, you should run the model several times for shorter simulation times, note the position of the divide at the completion of the simulation and then calculate the velocity (distance travelled divided by time).\n",
    "You can change the simulation time by providing the `simulation_time` parameter when you call the `stream_power` function. For example, `stream_power(simulation_time=10000.0)` would run the model for 10000 years."
   ]
  },
  {
   "cell_type": "markdown",
   "metadata": {
    "deletable": false,
    "nbgrader": {
     "checksum": "9ba8b6fb95fb263185b83d48f74fca08",
     "grade": true,
     "grade_id": "problem_2_questions",
     "locked": false,
     "points": 3,
     "schema_version": 1,
     "solution": true
    }
   },
   "source": [
    "YOUR ANSWER HERE"
   ]
  },
  {
   "cell_type": "markdown",
   "metadata": {
    "deletable": false,
    "editable": false,
    "nbgrader": {
     "checksum": "b3a0578d9319e9755399f1bfe3e7e526",
     "grade": false,
     "grade_id": "cell-05156f21c4230418",
     "locked": true,
     "schema_version": 1,
     "solution": false
    }
   },
   "source": [
    "## Part 2: Subplots and erosion rates (2.5 points)\n",
    "\n",
    "The code in this exercise calculates erosion rates across the length of the channel as a function of time in order to update the topography at the end of each time step.\n",
    "Currently, the program plots only the topography.\n",
    "For this part of the exercise, your goal is to plot both the topography and erosion rates on separate plots.\n",
    "This can be done using the `plt.subplot()` function to add a second plot beneath the existing plot.\n",
    "Currently, the first plot is created in the Python script using the commands\n",
    "\n",
    "```python\n",
    "# Format subplot 1\n",
    "max_elev = topography.max()\n",
    "ax1 = plt.subplot(1, 1, 1)              # Set ax1 as the first plot\n",
    "ax1.set_xlim([0.0, xkm.max()])          # Set the x-axis limits for plot 1\n",
    "ax1.set_ylim([0.0, max_elev*1.1])       # Set the y-axis limits for plot 1\n",
    "plot1, = plt.plot(xkm, topography)      # Define plot1 as the first plot\n",
    "```\n",
    "\n",
    "This is slightly different than past plots.\n",
    "To update the plot in an animation in the plot window, we need to define a variable to refer to the plot frame (`ax1`) and the line that will be plotted (`plot1`).\n",
    "Here, we are using the `plt.subplot()` function, which allows us to *potentially* have several plots in one window, but it is currently set to only have one plot.\n",
    "Remember, the syntax for the `plt.subplot()` command is `plt.subplot(nrows, ncols, plot number)`, where `nrows` is the number of rows of plots, `ncols` is the number of columns of plots and `plot number` is the number of the plot in the list.\n",
    "Currently, we have 1 row, 1 column, and 1 plot to display.\n",
    "Note that we have also defined the axis limits separately so they can be updated in the animation.\n",
    "\n",
    "For this part you should:\n",
    "\n",
    "- Copy the selected functions from Problem 1 into the cells below.\n",
    "- Modify the copied functions to have 2 subplots.\n",
    "    - First increase the number of rows to two for the first plot, then add the code necessary to generate a second plot similar to the example for plot 1.\n",
    "    - The second plot should be below the first plot and show the erosion rate **in mm/a** across the river profile with proper axis labels.\n",
    "        - **NOTE**: Because the coordinate system for elevation is positive upwards, you should multiply the erosion rates that are calculated by -1 so that they are positive values.\n",
    "\n",
    "  If you run your simulation for 100,000 years, you should see something like the following plot:\n",
    "    ![Subplot example](img/subplot_example_100ka.png)<br/>\n",
    "    *Figure 1. An example of using the `plt.subplot()` function. Your plot should look something like this.*\n",
    "It will likely be helpful to have a look at the [hints for this week's exercise](https://introqg.github.io/qg/lessons/L4/exercise-4.html) for this part.\n",
    "- Run the test cell below the functions to produce a plot like the one above\n",
    "- Add a descriptive figure caption as if it was in a scientific journal in the cell below the plot"
   ]
  },
  {
   "cell_type": "code",
   "execution_count": null,
   "metadata": {},
   "outputs": [],
   "source": [
    "def update_figure(time_now, ax1, plot1, ax2, plot2, time_text, elev_text, topography, dx, area, K, m, n, uplift, dt, dt_plot):\n",
    "    \"\"\"Update the river profile figure.\n",
    "\n",
    "    Keyword arguments:\n",
    "    time_now -- current time in river profile model (units: a)\n",
    "    ax1 -- plot axis 1 (river profile)\n",
    "    ax2 -- plot axis 2 (erosion rates)\n",
    "    plot1 -- plot 1\n",
    "    plot2 -- plot 2\n",
    "    time_text -- text object for current model time\n",
    "    elev_text -- text object for maximum elevation\n",
    "    topography -- array of river profile elevations (units: m)\n",
    "    dx -- spacing of points along river profile (units: m; default: 1000.0)\n",
    "    area -- array of upstream drainage area (units: m**2.0)\n",
    "    K -- fluvial erosional efficiency factor (units: m**0.33 / a; default: 1.6E-8)\n",
    "    m -- stream power area exponent (default: 1.0)\n",
    "    n -- stream power slope exponent (default: 2.0)\n",
    "    uplift -- array of rock uplift rates (units: m / a)\n",
    "    dt -- time step size for profile calculations (units: a; default: 2.0)\n",
    "    dt_plot -- time step for displaying plots (units: a; default: 2000.0)\n",
    "    \"\"\"\n",
    "    # Update elevations on river profile\n",
    "    topography, dhdt = update_topo(topography, dx, area, K, m, n, uplift, dt, dt_plot)\n",
    "    max_elev = topography.max()                                     # Calculate maximum elevation of river profile\n",
    "    plot1.set_ydata(topography)                                     # Update plot topography\n",
    "    ax1.set_ylim([0.0, max_elev * 1.1])                             # Update y-axis range for new topography\n",
    "    time_text.set_y(max_elev * 0.9)                                 # Reposition time text\n",
    "    time_text.set_text(str(time_now)+\" years\")                      # Update time text\n",
    "    elev_text.set_y(max_elev * 0.8)                                 # Reposition time text\n",
    "    elev_text.set_text(\"Max elevation: {0:.1f} m\".format(max_elev)) # Update time text\n",
    "    plot2.set_ydata(-dhdt*1000.0)                                   # Update plot topography\n",
    "    ax2.set_ylim([0.0, max(-dhdt*1000.0) * 1.1])                    # Update y-axis range for new topography\n",
    "    return plot1,plot2                                              # Return updated plot"
   ]
  },
  {
   "cell_type": "code",
   "execution_count": null,
   "metadata": {},
   "outputs": [],
   "source": [
    "def stream_power(min_elevation = 0.0, max_elevation = 1500.0, profile_length = 100000.0,\n",
    "                 dx = 1000.0, topo_option = 1, simulation_time = 2000000.0, dt = 2.0,\n",
    "                 dt_plot = 2000.0, K = 1.6E-8, m = 1.0, n = 2.0, ka = 6.69, h = 1.69):\n",
    "    \"\"\"Calculate evolution of a river profile with stream-power erosion.\n",
    "\n",
    "    Keyword arguments:\n",
    "    min_elevation -- minimum elevation for initial topography (units: m; default: 0.0)\n",
    "    max_elevation -- maximum elevation for initial topography (units: m; default: 1500.0)\n",
    "    profile_length -- length of river profile (units: m; default: 100000.0)\n",
    "    dx -- spacing of points along river profile (units: m; default: 1000.0)\n",
    "    topo_option -- initial topography: 1 = flat, 2 = plateau, 3 = constant slope\n",
    "                   (default: 1)\n",
    "    simulation_time -- total simulation time (units: a; default: 2000000.0)\n",
    "    dt -- time step size for profile calculations (units: a; default: 2.0)\n",
    "    dt_plot -- time step for displaying plots (units: a; default: 2000.0)\n",
    "    K -- fluvial erosional efficiency factor (units: m**0.33 / a; default: 1.6E-8)\n",
    "    m -- stream power area exponent (default: 1.0)\n",
    "    n -- stream power slope exponent (default: 2.0)\n",
    "    h -- area scaling exponent (default: 1.69)\n",
    "    ka -- distance/area scaling coefficient (units: m**0.33; default: 6.69)\n",
    "    \"\"\"\n",
    "\n",
    "    # Define arrays needed for river profile calculations\n",
    "    x_points = int(profile_length/dx) + 1           # Number of points for x array\n",
    "    x = np.linspace(0.0, profile_length, x_points)  # Define x array from 0 to L by dx\n",
    "    xkm = x / 1000.0                                # Create xkm array with x values converted to km\n",
    "    dhdt = np.zeros(x.size)                         # Erosion rate array, same size as x\n",
    "\n",
    "    # Define rock uplift rate and pattern\n",
    "    uplift_rate = 0.001                             # Rock uplift rate [m/a]\n",
    "    uplift = np.zeros(x.size) + uplift_rate         # Create rock uplift array with constant uplift rate\n",
    "\n",
    "    # Define initial topography\n",
    "    topography = init_topography(topo_option, x, min_elevation, max_elevation)\n",
    "\n",
    "    # Calculate drainage basin area as a function of distance from divide x\n",
    "    area = drainage_area(x)\n",
    "\n",
    "    # Fill values for time and plot time arrays\n",
    "    time = np.linspace(0.0, simulation_time, int(simulation_time / dt + 1))\n",
    "    plot_time = np.linspace(0.0, simulation_time, int(simulation_time / dt_plot + 1))\n",
    "\n",
    "    # Create plotting window\n",
    "    fig = plt.figure()\n",
    "\n",
    "    # Format subplot 1\n",
    "    max_elev = topography.max()\n",
    "    ax1 = plt.subplot(2, 1, 1)              # Set ax1 as the first plot\n",
    "    ax1.set_xlim([0.0, xkm.max()])          # Set the x-axis limits for plot 1\n",
    "    ax1.set_ylim([0.0, max_elev*1.1])       # Set the y-axis limits for plot 1\n",
    "    plot1, = plt.plot(xkm, topography)      # Define plot1 as the first plot\n",
    "\n",
    "    # Add axis labels and title\n",
    "    plt.xlabel(\"Distance from drainage divide [km]\")\n",
    "    plt.ylabel(\"River channel elevation [m]\")\n",
    "    plt.title(\"River channel profile evolution model\")\n",
    "\n",
    "    # Define starting time for display on plot (value updated in animate() function)\n",
    "    time_now = 0.0\n",
    "    time_text = plt.text(60., max_elev*0.9, str(time_now)+\" years\")\n",
    "\n",
    "    # Define starting max elevation for display on plot (value updated in animate() function)\n",
    "    elev_text = plt.text(60., max_elev*0.8, \"Max elevation: {0:.1f} m\".format(max_elev))\n",
    "\n",
    "    # Format subplot 2\n",
    "    ax2 = plt.subplot(2,1,2)                        # Set ax2 as the second plot\n",
    "    plot2, = plt.plot(xkm, np.zeros(len(xkm)))      # Define plot2 as the second plot\n",
    "    ax2.set_xlim([0.0, xkm.max()])                  # Set the x-axis limits for plot 2\n",
    "    ax2.set_ylim([0.0, uplift.max()*1.1])           # Set the y-axis limits for plot 2\n",
    "\n",
    "    # Add axis labels\n",
    "    plt.xlabel(\"Distance from drainage divide [km]\")\n",
    "    plt.ylabel(\"Fluvial erosion rate [mm/a]\")\n",
    "\n",
    "    # Animate and display plot results\n",
    "    anim = animation.FuncAnimation(fig, update_figure, frames=plot_time,\n",
    "                                  fargs=(ax1, plot1, ax2, plot2, time_text,\n",
    "                                         elev_text, topography, dx, area,\n",
    "                                         K, m, n, uplift, dt, dt_plot),\n",
    "                                  interval=5,blit=False, repeat=False)\n",
    "\n",
    "    # Display plot\n",
    "    plt.show()\n",
    "    \n",
    "    # Return anim so the animation works\n",
    "    return anim"
   ]
  },
  {
   "cell_type": "code",
   "execution_count": null,
   "metadata": {
    "deletable": false,
    "nbgrader": {
     "checksum": "19e33a6b17d6cd1abef2b50831cad9f5",
     "grade": true,
     "grade_id": "subplot_test",
     "locked": false,
     "points": 2,
     "schema_version": 1,
     "solution": true
    }
   },
   "outputs": [],
   "source": [
    "# YOUR CODE HERE\n",
    "raise NotImplementedError()"
   ]
  },
  {
   "cell_type": "markdown",
   "metadata": {
    "deletable": false,
    "nbgrader": {
     "checksum": "b3e7bc731bf31050a983cc8910d32028",
     "grade": true,
     "grade_id": "subplot_test_caption",
     "locked": false,
     "points": 0.5,
     "schema_version": 1,
     "solution": true
    }
   },
   "source": [
    "YOUR ANSWER HERE"
   ]
  },
  {
   "cell_type": "markdown",
   "metadata": {},
   "source": [
    "## Part 3: Exploring the initial topography\n",
    "\n",
    "Your last task in this week's exercise is to explore the effect of the initial topography on the evolution of the river profile and erosion rates.\n",
    "This will hopefully give you a better sense of how the stream-power erosion equation works.\n",
    "\n",
    "For this part you should:\n",
    "\n",
    "- Run the `stream_power` equation for each of the 3 initial topography options using the Python cells below\n",
    "    - Run each model for 2 million years\n",
    "- Below each Python cell, add a descriptive figure caption as if it was in a scientific journal in the cell below the plot\n",
    "- Answer the questions below the plots"
   ]
  },
  {
   "cell_type": "code",
   "execution_count": null,
   "metadata": {
    "deletable": false,
    "nbgrader": {
     "checksum": "ef63fa5c19188155d6965cbe32cbda57",
     "grade": true,
     "grade_id": "cell-0b066da2912346db",
     "locked": false,
     "points": 0.5,
     "schema_version": 1,
     "solution": true
    }
   },
   "outputs": [],
   "source": [
    "# Initial topography option 1 goes here\n",
    "\n",
    "# YOUR CODE HERE\n",
    "raise NotImplementedError()"
   ]
  },
  {
   "cell_type": "markdown",
   "metadata": {
    "deletable": false,
    "nbgrader": {
     "checksum": "31ea0212e48622ab9a2578ed8b47874e",
     "grade": true,
     "grade_id": "cell-66a694d5f00dc1bd",
     "locked": false,
     "points": 0.5,
     "schema_version": 1,
     "solution": true
    }
   },
   "source": [
    "YOUR ANSWER HERE"
   ]
  },
  {
   "cell_type": "code",
   "execution_count": null,
   "metadata": {
    "deletable": false,
    "nbgrader": {
     "checksum": "db140a43ac2c82d3e2aae79829b79c86",
     "grade": true,
     "grade_id": "cell-66e9eb21dedc8f3e",
     "locked": false,
     "points": 0.5,
     "schema_version": 1,
     "solution": true
    }
   },
   "outputs": [],
   "source": [
    "# Initial topography option 2 goes here\n",
    "\n",
    "# YOUR CODE HERE\n",
    "raise NotImplementedError()"
   ]
  },
  {
   "cell_type": "markdown",
   "metadata": {
    "deletable": false,
    "nbgrader": {
     "checksum": "219a4ce8b3c46c5998d7b38c8dbacc50",
     "grade": true,
     "grade_id": "cell-f63af8f695c268b6",
     "locked": false,
     "points": 0.5,
     "schema_version": 1,
     "solution": true
    }
   },
   "source": [
    "YOUR ANSWER HERE"
   ]
  },
  {
   "cell_type": "code",
   "execution_count": null,
   "metadata": {
    "deletable": false,
    "nbgrader": {
     "checksum": "0293470e4e07604b7c2ff5d4c1923bac",
     "grade": true,
     "grade_id": "cell-2e1cb6a91a69a450",
     "locked": false,
     "points": 0.5,
     "schema_version": 1,
     "solution": true
    }
   },
   "outputs": [],
   "source": [
    "# Initial topography option 3 goes here\n",
    "\n",
    "# YOUR CODE HERE\n",
    "raise NotImplementedError()"
   ]
  },
  {
   "cell_type": "markdown",
   "metadata": {
    "deletable": false,
    "nbgrader": {
     "checksum": "f88b4f58a72cf7b34e6087d61a9b2ba0",
     "grade": true,
     "grade_id": "cell-3dbd537bf51b73bc",
     "locked": false,
     "points": 0.5,
     "schema_version": 1,
     "solution": true
    }
   },
   "source": [
    "YOUR ANSWER HERE"
   ]
  },
  {
   "cell_type": "markdown",
   "metadata": {
    "deletable": false,
    "editable": false,
    "nbgrader": {
     "checksum": "c6b31a1d9a2bde6cc39e97c806a1eb6b",
     "grade": false,
     "grade_id": "cell-668e37e61ecc55b3",
     "locked": true,
     "schema_version": 1,
     "solution": false
    }
   },
   "source": [
    "#### Questions for this part (3 points):\n",
    "\n",
    "Comparing the three different inintial topography options, please answer the following questions:\n",
    "\n",
    "1. What is the starting shape of each of the initial topography options? How do they differ from one another?\n",
    "2. What are the fastest erosion rates you see in any of the profiles? Which model produces the fastest erosion rates? Why do you think that might be?\n",
    "3. Do the fastest erosion rates always occur in the same place, or does the location of fastest erosion change? Explain why this occurs, based on the equations for stream-power erosion presented in this week's lesson.\n",
    "4. How fast does the drainage divide migrate across the model in each case? Why do you think the rates differ?\n",
    "5. Look at the erosion rates across the profiles. Are the majority of the erosion rates greater than, less than or equal to the rock uplift rate? Based on this answer, is the topography in a steady state (i.e., not changing)?"
   ]
  },
  {
   "cell_type": "markdown",
   "metadata": {
    "deletable": false,
    "nbgrader": {
     "checksum": "7af034c393d8a309414b21af153830ed",
     "grade": true,
     "grade_id": "cell-2268d3c935452a18",
     "locked": false,
     "points": 3,
     "schema_version": 1,
     "solution": true
    }
   },
   "source": [
    "YOUR ANSWER HERE"
   ]
  }
 ],
 "metadata": {
  "kernelspec": {
   "display_name": "Python 3",
   "language": "python",
   "name": "python3"
  },
  "language_info": {
   "codemirror_mode": {
    "name": "ipython",
    "version": 3
   },
   "file_extension": ".py",
   "mimetype": "text/x-python",
   "name": "python",
   "nbconvert_exporter": "python",
   "pygments_lexer": "ipython3",
   "version": "3.6.4"
  }
 },
 "nbformat": 4,
 "nbformat_minor": 2
}
